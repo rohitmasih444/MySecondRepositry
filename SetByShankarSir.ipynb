{
 "cells": [
  {
   "cell_type": "markdown",
   "id": "7219869b",
   "metadata": {},
   "source": [
    "# set\n",
    "sets are an unordered collection of unique element which can be constructed using the set() function\n"
   ]
  },
  {
   "cell_type": "code",
   "execution_count": 19,
   "id": "6172b5ab",
   "metadata": {},
   "outputs": [],
   "source": [
    "roll_num = set()"
   ]
  },
  {
   "cell_type": "code",
   "execution_count": 20,
   "id": "c0849578",
   "metadata": {},
   "outputs": [
    {
     "data": {
      "text/plain": [
       "set"
      ]
     },
     "execution_count": 20,
     "metadata": {},
     "output_type": "execute_result"
    }
   ],
   "source": [
    "type(roll_num)"
   ]
  },
  {
   "cell_type": "code",
   "execution_count": 22,
   "id": "6e39aa1c",
   "metadata": {},
   "outputs": [
    {
     "data": {
      "text/plain": [
       "{2}"
      ]
     },
     "execution_count": 22,
     "metadata": {},
     "output_type": "execute_result"
    }
   ],
   "source": [
    "# we add to sets with the add() methods\n",
    "roll_num.add(2)\n",
    "roll_num"
   ]
  },
  {
   "cell_type": "code",
   "execution_count": 27,
   "id": "ccfae65b",
   "metadata": {},
   "outputs": [
    {
     "data": {
      "text/plain": [
       "{1, 2, 3}"
      ]
     },
     "execution_count": 27,
     "metadata": {},
     "output_type": "execute_result"
    }
   ],
   "source": [
    "roll_num.add(3)\n",
    "roll_num"
   ]
  },
  {
   "cell_type": "code",
   "execution_count": 28,
   "id": "5e1591ba",
   "metadata": {},
   "outputs": [],
   "source": [
    "# Add a different element"
   ]
  },
  {
   "cell_type": "code",
   "execution_count": 32,
   "id": "ffe70dad",
   "metadata": {},
   "outputs": [
    {
     "data": {
      "text/plain": [
       "{1, 2, 3}"
      ]
     },
     "execution_count": 32,
     "metadata": {},
     "output_type": "execute_result"
    }
   ],
   "source": [
    "roll_num.add(1)\n",
    "roll_num"
   ]
  },
  {
   "cell_type": "code",
   "execution_count": 34,
   "id": "99018f2a",
   "metadata": {},
   "outputs": [
    {
     "data": {
      "text/plain": [
       "{1, 2, 3}"
      ]
     },
     "execution_count": 34,
     "metadata": {},
     "output_type": "execute_result"
    }
   ],
   "source": [
    "# now we can add here any same number which already in the set\n",
    "roll_num.add(2)\n",
    "roll_num"
   ]
  },
  {
   "cell_type": "code",
   "execution_count": 35,
   "id": "c601c0f3",
   "metadata": {},
   "outputs": [],
   "source": [
    "# create a list with repeats\n",
    "\n",
    "remove_dups = [1,2,3,4,6,7,5,4,2,1,4,5,7,6,5,8,9,0,8,7,9,8,7,6,5,4]"
   ]
  },
  {
   "cell_type": "code",
   "execution_count": 36,
   "id": "a8aa58e6",
   "metadata": {},
   "outputs": [
    {
     "data": {
      "text/plain": [
       "[1, 2, 3, 4, 6, 7, 5, 4, 2, 1, 4, 5, 7, 6, 5, 8, 9, 0, 8, 7, 9, 8, 7, 6, 5, 4]"
      ]
     },
     "execution_count": 36,
     "metadata": {},
     "output_type": "execute_result"
    }
   ],
   "source": [
    "remove_dups"
   ]
  },
  {
   "cell_type": "code",
   "execution_count": 37,
   "id": "d8174b85",
   "metadata": {},
   "outputs": [
    {
     "data": {
      "text/plain": [
       "{0, 1, 2, 3, 4, 5, 6, 7, 8, 9}"
      ]
     },
     "execution_count": 37,
     "metadata": {},
     "output_type": "execute_result"
    }
   ],
   "source": [
    "remove_dups = set(remove_dups)\n",
    "remove_dups"
   ]
  },
  {
   "cell_type": "code",
   "execution_count": 39,
   "id": "7fae0ca5",
   "metadata": {},
   "outputs": [
    {
     "data": {
      "text/plain": [
       "{0, 1, 2, 3, 4, 5, 6, 7, 8, 9, 10}"
      ]
     },
     "execution_count": 39,
     "metadata": {},
     "output_type": "execute_result"
    }
   ],
   "source": [
    "remove_dups.add(10)\n",
    "remove_dups"
   ]
  },
  {
   "cell_type": "code",
   "execution_count": 40,
   "id": "42618df4",
   "metadata": {},
   "outputs": [
    {
     "data": {
      "text/plain": [
       "[0, 1, 2, 3, 4, 5, 6, 7, 8, 9, 10]"
      ]
     },
     "execution_count": 40,
     "metadata": {},
     "output_type": "execute_result"
    }
   ],
   "source": [
    "remove_dups = list(remove_dups)\n",
    "remove_dups"
   ]
  },
  {
   "cell_type": "code",
   "execution_count": 41,
   "id": "bd3ee440",
   "metadata": {},
   "outputs": [
    {
     "data": {
      "text/plain": [
       "(0, 1, 2, 3, 4, 5, 6, 7, 8, 9, 10)"
      ]
     },
     "execution_count": 41,
     "metadata": {},
     "output_type": "execute_result"
    }
   ],
   "source": [
    "remove_dups = tuple(remove_dups)\n",
    "remove_dups"
   ]
  },
  {
   "cell_type": "code",
   "execution_count": null,
   "id": "778ff2eb",
   "metadata": {},
   "outputs": [],
   "source": []
  }
 ],
 "metadata": {
  "kernelspec": {
   "display_name": "Python 3 (ipykernel)",
   "language": "python",
   "name": "python3"
  },
  "language_info": {
   "codemirror_mode": {
    "name": "ipython",
    "version": 3
   },
   "file_extension": ".py",
   "mimetype": "text/x-python",
   "name": "python",
   "nbconvert_exporter": "python",
   "pygments_lexer": "ipython3",
   "version": "3.9.12"
  }
 },
 "nbformat": 4,
 "nbformat_minor": 5
}
