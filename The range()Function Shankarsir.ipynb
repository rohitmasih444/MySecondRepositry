{
 "cells": [
  {
   "cell_type": "markdown",
   "id": "b9f2095a",
   "metadata": {},
   "source": [
    "# The range() function"
   ]
  },
  {
   "cell_type": "markdown",
   "id": "05f56fff",
   "metadata": {},
   "source": [
    "We can generate a sequence of numbers using range() function. range(10) will generate numbers from 0 to 9 (10 numbers). we can also define the start , stop , step size as range(start,stop,step size). Step size defaults to 1 if not provided. This does not store all the value in memory. It would be inefficient. So it remembers the start , stop, step size and generates the next number on the go.\n",
    "\n",
    "To force this function to output all the items , we can use the function list() the following example will clarify this.\n"
   ]
  },
  {
   "cell_type": "code",
   "execution_count": 9,
   "id": "beacc8e5",
   "metadata": {},
   "outputs": [
    {
     "name": "stdout",
     "output_type": "stream",
     "text": [
      "range(0, 10)\n"
     ]
    }
   ],
   "source": [
    "print(range(10))"
   ]
  },
  {
   "cell_type": "code",
   "execution_count": 2,
   "id": "a3e974f0",
   "metadata": {},
   "outputs": [
    {
     "name": "stdout",
     "output_type": "stream",
     "text": [
      "[0, 1, 2, 3, 4, 5, 6, 7, 8, 9]\n"
     ]
    }
   ],
   "source": [
    "print(list(range(10)))"
   ]
  },
  {
   "cell_type": "code",
   "execution_count": 3,
   "id": "f01fb43a",
   "metadata": {},
   "outputs": [],
   "source": [
    "roll_num = list(range(1,8))"
   ]
  },
  {
   "cell_type": "code",
   "execution_count": 4,
   "id": "a29c1159",
   "metadata": {},
   "outputs": [
    {
     "data": {
      "text/plain": [
       "[1, 2, 3, 4, 5, 6, 7]"
      ]
     },
     "execution_count": 4,
     "metadata": {},
     "output_type": "execute_result"
    }
   ],
   "source": [
    "roll_num"
   ]
  },
  {
   "cell_type": "code",
   "execution_count": 5,
   "id": "094b3845",
   "metadata": {},
   "outputs": [],
   "source": [
    "step_size = list(range(0,40,3))"
   ]
  },
  {
   "cell_type": "code",
   "execution_count": 6,
   "id": "ae363a02",
   "metadata": {},
   "outputs": [
    {
     "data": {
      "text/plain": [
       "[0, 3, 6, 9, 12, 15, 18, 21, 24, 27, 30, 33, 36, 39]"
      ]
     },
     "execution_count": 6,
     "metadata": {},
     "output_type": "execute_result"
    }
   ],
   "source": [
    "step_size"
   ]
  },
  {
   "cell_type": "code",
   "execution_count": 10,
   "id": "4096a944",
   "metadata": {},
   "outputs": [],
   "source": [
    "incrs_by_hund = list(range(100,1700,100))"
   ]
  },
  {
   "cell_type": "code",
   "execution_count": 11,
   "id": "5c88e1e7",
   "metadata": {},
   "outputs": [
    {
     "data": {
      "text/plain": [
       "[100,\n",
       " 200,\n",
       " 300,\n",
       " 400,\n",
       " 500,\n",
       " 600,\n",
       " 700,\n",
       " 800,\n",
       " 900,\n",
       " 1000,\n",
       " 1100,\n",
       " 1200,\n",
       " 1300,\n",
       " 1400,\n",
       " 1500,\n",
       " 1600]"
      ]
     },
     "execution_count": 11,
     "metadata": {},
     "output_type": "execute_result"
    }
   ],
   "source": [
    "incrs_by_hund"
   ]
  },
  {
   "cell_type": "code",
   "execution_count": 16,
   "id": "cac39282",
   "metadata": {},
   "outputs": [],
   "source": [
    "incrs_by_hund.append(1700)"
   ]
  },
  {
   "cell_type": "raw",
   "id": "5c6b012e",
   "metadata": {},
   "source": [
    "incrs_by_hund"
   ]
  },
  {
   "cell_type": "code",
   "execution_count": 17,
   "id": "716f41fa",
   "metadata": {},
   "outputs": [
    {
     "data": {
      "text/plain": [
       "[100,\n",
       " 200,\n",
       " 300,\n",
       " 400,\n",
       " 500,\n",
       " 600,\n",
       " 700,\n",
       " 800,\n",
       " 900,\n",
       " 1000,\n",
       " 1100,\n",
       " 1200,\n",
       " 1300,\n",
       " 1400,\n",
       " 1500,\n",
       " 1600,\n",
       " 1700]"
      ]
     },
     "execution_count": 17,
     "metadata": {},
     "output_type": "execute_result"
    }
   ],
   "source": [
    "incrs_by_hund"
   ]
  },
  {
   "cell_type": "code",
   "execution_count": 25,
   "id": "31c60f09",
   "metadata": {},
   "outputs": [],
   "source": [
    "# Decreasing order starting from HIGHEST TO LOWEST\n",
    "\n",
    "reverse = list(range(1700,-1,-100))"
   ]
  },
  {
   "cell_type": "code",
   "execution_count": 26,
   "id": "00573446",
   "metadata": {},
   "outputs": [
    {
     "data": {
      "text/plain": [
       "[1700,\n",
       " 1600,\n",
       " 1500,\n",
       " 1400,\n",
       " 1300,\n",
       " 1200,\n",
       " 1100,\n",
       " 1000,\n",
       " 900,\n",
       " 800,\n",
       " 700,\n",
       " 600,\n",
       " 500,\n",
       " 400,\n",
       " 300,\n",
       " 200,\n",
       " 100,\n",
       " 0]"
      ]
     },
     "execution_count": 26,
     "metadata": {},
     "output_type": "execute_result"
    }
   ],
   "source": [
    "reverse"
   ]
  },
  {
   "cell_type": "markdown",
   "id": "cf324b72",
   "metadata": {},
   "source": [
    "range function dont work for float data. We will learn how to fix this issue in the numPy classes."
   ]
  },
  {
   "cell_type": "code",
   "execution_count": null,
   "id": "300b0251",
   "metadata": {},
   "outputs": [],
   "source": []
  }
 ],
 "metadata": {
  "kernelspec": {
   "display_name": "Python 3 (ipykernel)",
   "language": "python",
   "name": "python3"
  },
  "language_info": {
   "codemirror_mode": {
    "name": "ipython",
    "version": 3
   },
   "file_extension": ".py",
   "mimetype": "text/x-python",
   "name": "python",
   "nbconvert_exporter": "python",
   "pygments_lexer": "ipython3",
   "version": "3.9.12"
  }
 },
 "nbformat": 4,
 "nbformat_minor": 5
}
