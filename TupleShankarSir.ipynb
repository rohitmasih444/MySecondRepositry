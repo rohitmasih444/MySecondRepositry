{
 "cells": [
  {
   "cell_type": "markdown",
   "id": "2f34b2f2",
   "metadata": {},
   "source": [
    "# Tuple"
   ]
  },
  {
   "cell_type": "code",
   "execution_count": 2,
   "id": "a45c8b52",
   "metadata": {},
   "outputs": [
    {
     "data": {
      "text/plain": [
       "('Bangloru', 'Noida', 'Chennai', 'Delhi')"
      ]
     },
     "execution_count": 2,
     "metadata": {},
     "output_type": "execute_result"
    }
   ],
   "source": [
    "# Can create a tuple with mixed types\n",
    "work_location = ('Bangloru','Noida','Chennai','Delhi')\n",
    "work_location"
   ]
  },
  {
   "cell_type": "code",
   "execution_count": 5,
   "id": "2ceb6c9e",
   "metadata": {},
   "outputs": [
    {
     "data": {
      "text/plain": [
       "tuple"
      ]
     },
     "execution_count": 5,
     "metadata": {},
     "output_type": "execute_result"
    }
   ],
   "source": [
    "type(work_location)"
   ]
  },
  {
   "cell_type": "code",
   "execution_count": 6,
   "id": "ae5a0eb3",
   "metadata": {},
   "outputs": [
    {
     "ename": "AttributeError",
     "evalue": "'tuple' object has no attribute 'append'",
     "output_type": "error",
     "traceback": [
      "\u001b[1;31m---------------------------------------------------------------------------\u001b[0m",
      "\u001b[1;31mAttributeError\u001b[0m                            Traceback (most recent call last)",
      "Input \u001b[1;32mIn [6]\u001b[0m, in \u001b[0;36m<cell line: 1>\u001b[1;34m()\u001b[0m\n\u001b[1;32m----> 1\u001b[0m \u001b[43mwork_location\u001b[49m\u001b[38;5;241;43m.\u001b[39;49m\u001b[43mappend\u001b[49m(\u001b[38;5;124m'\u001b[39m\u001b[38;5;124mHaldwani\u001b[39m\u001b[38;5;124m'\u001b[39m)\n",
      "\u001b[1;31mAttributeError\u001b[0m: 'tuple' object has no attribute 'append'"
     ]
    }
   ],
   "source": [
    "work_location.append('Haldwani')"
   ]
  },
  {
   "cell_type": "markdown",
   "id": "293203d4",
   "metadata": {},
   "source": [
    "# Not Possible as it is immutable\n",
    "\n",
    "But how do i add it?\n",
    "yes, we can convert tuple into list and change the  data as per your wish"
   ]
  },
  {
   "cell_type": "code",
   "execution_count": 10,
   "id": "3f239a10",
   "metadata": {},
   "outputs": [
    {
     "data": {
      "text/plain": [
       "['Bangloru', 'Noida', 'Chennai', 'Delhi']"
      ]
     },
     "execution_count": 10,
     "metadata": {},
     "output_type": "execute_result"
    }
   ],
   "source": [
    "# conver into list and reassign or you can store in new variable as per the need\n",
    "work_location = list(work_location)\n",
    "work_location"
   ]
  },
  {
   "cell_type": "code",
   "execution_count": 11,
   "id": "27f007aa",
   "metadata": {},
   "outputs": [
    {
     "data": {
      "text/plain": [
       "list"
      ]
     },
     "execution_count": 11,
     "metadata": {},
     "output_type": "execute_result"
    }
   ],
   "source": [
    "type(work_location)"
   ]
  },
  {
   "cell_type": "code",
   "execution_count": 12,
   "id": "9affc40d",
   "metadata": {},
   "outputs": [
    {
     "data": {
      "text/plain": [
       "['Bangloru', 'Noida', 'Chennai', 'Delhi', 'Haldwani']"
      ]
     },
     "execution_count": 12,
     "metadata": {},
     "output_type": "execute_result"
    }
   ],
   "source": [
    "# Changed the data\n",
    "work_location.append('Haldwani')\n",
    "work_location"
   ]
  },
  {
   "cell_type": "code",
   "execution_count": 13,
   "id": "86f17063",
   "metadata": {},
   "outputs": [],
   "source": [
    "work_location[3] = 'Nainital'"
   ]
  },
  {
   "cell_type": "code",
   "execution_count": 14,
   "id": "c46afda6",
   "metadata": {},
   "outputs": [
    {
     "data": {
      "text/plain": [
       "['Bangloru', 'Noida', 'Chennai', 'Nainital', 'Haldwani']"
      ]
     },
     "execution_count": 14,
     "metadata": {},
     "output_type": "execute_result"
    }
   ],
   "source": [
    "work_location"
   ]
  },
  {
   "cell_type": "code",
   "execution_count": 15,
   "id": "9cb1b4f2",
   "metadata": {},
   "outputs": [],
   "source": [
    "# Also we can change list again into tuple\n",
    "work_location = tuple(work_location)"
   ]
  },
  {
   "cell_type": "code",
   "execution_count": 16,
   "id": "7d90a15f",
   "metadata": {},
   "outputs": [
    {
     "data": {
      "text/plain": [
       "('Bangloru', 'Noida', 'Chennai', 'Nainital', 'Haldwani')"
      ]
     },
     "execution_count": 16,
     "metadata": {},
     "output_type": "execute_result"
    }
   ],
   "source": [
    "work_location"
   ]
  },
  {
   "cell_type": "code",
   "execution_count": 17,
   "id": "53f399ee",
   "metadata": {},
   "outputs": [
    {
     "data": {
      "text/plain": [
       "tuple"
      ]
     },
     "execution_count": 17,
     "metadata": {},
     "output_type": "execute_result"
    }
   ],
   "source": [
    "type(work_location)"
   ]
  },
  {
   "cell_type": "markdown",
   "id": "c24aa2ff",
   "metadata": {},
   "source": [
    "How many cities in the tuple"
   ]
  },
  {
   "cell_type": "code",
   "execution_count": 18,
   "id": "eb3d1211",
   "metadata": {},
   "outputs": [
    {
     "data": {
      "text/plain": [
       "5"
      ]
     },
     "execution_count": 18,
     "metadata": {},
     "output_type": "execute_result"
    }
   ],
   "source": [
    "# check len just like a list\n",
    "len(work_location)"
   ]
  },
  {
   "cell_type": "markdown",
   "id": "2440d23b",
   "metadata": {},
   "source": [
    "# Similarly you can work with numbers as well. No change in the concept"
   ]
  },
  {
   "cell_type": "code",
   "execution_count": 19,
   "id": "ecdbd873",
   "metadata": {},
   "outputs": [
    {
     "data": {
      "text/plain": [
       "('Bangloru', 'Noida', 'Chennai', 'Nainital', 'Haldwani')"
      ]
     },
     "execution_count": 19,
     "metadata": {},
     "output_type": "execute_result"
    }
   ],
   "source": [
    "work_location"
   ]
  },
  {
   "cell_type": "code",
   "execution_count": 20,
   "id": "c5c9b56f",
   "metadata": {},
   "outputs": [
    {
     "data": {
      "text/plain": [
       "'Noida'"
      ]
     },
     "execution_count": 20,
     "metadata": {},
     "output_type": "execute_result"
    }
   ],
   "source": [
    "# use indexing just like we did in lists\n",
    "work_location[1]"
   ]
  },
  {
   "cell_type": "code",
   "execution_count": 21,
   "id": "70fc6f24",
   "metadata": {},
   "outputs": [
    {
     "data": {
      "text/plain": [
       "'Nainital'"
      ]
     },
     "execution_count": 21,
     "metadata": {},
     "output_type": "execute_result"
    }
   ],
   "source": [
    "# Slicing just like a list\n",
    "work_location[-2]"
   ]
  },
  {
   "cell_type": "markdown",
   "id": "33e0f33e",
   "metadata": {},
   "source": [
    "# Basic Tuple methods"
   ]
  },
  {
   "cell_type": "code",
   "execution_count": 25,
   "id": "034f1581",
   "metadata": {},
   "outputs": [
    {
     "data": {
      "text/plain": [
       "(25, 50, 58, 60, 70, 90, 50, 45, 50)"
      ]
     },
     "execution_count": 25,
     "metadata": {},
     "output_type": "execute_result"
    }
   ],
   "source": [
    "num = (25,50,58,60,70,90,50,45,50)\n",
    "num"
   ]
  },
  {
   "cell_type": "code",
   "execution_count": 29,
   "id": "382091d3",
   "metadata": {},
   "outputs": [
    {
     "data": {
      "text/plain": [
       "4"
      ]
     },
     "execution_count": 29,
     "metadata": {},
     "output_type": "execute_result"
    }
   ],
   "source": [
    "# use .index to entre a value and return the index\n",
    "num.index(70)"
   ]
  },
  {
   "cell_type": "code",
   "execution_count": 28,
   "id": "fc9a75b5",
   "metadata": {},
   "outputs": [
    {
     "data": {
      "text/plain": [
       "3"
      ]
     },
     "execution_count": 28,
     "metadata": {},
     "output_type": "execute_result"
    }
   ],
   "source": [
    "# use .count to count the number of times a value appears\n",
    "num.count(50)"
   ]
  },
  {
   "cell_type": "code",
   "execution_count": null,
   "id": "45f059a5",
   "metadata": {},
   "outputs": [],
   "source": []
  }
 ],
 "metadata": {
  "kernelspec": {
   "display_name": "Python 3 (ipykernel)",
   "language": "python",
   "name": "python3"
  },
  "language_info": {
   "codemirror_mode": {
    "name": "ipython",
    "version": 3
   },
   "file_extension": ".py",
   "mimetype": "text/x-python",
   "name": "python",
   "nbconvert_exporter": "python",
   "pygments_lexer": "ipython3",
   "version": "3.9.12"
  }
 },
 "nbformat": 4,
 "nbformat_minor": 5
}
